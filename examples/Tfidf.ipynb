{
 "cells": [
  {
   "cell_type": "code",
   "execution_count": 4,
   "id": "eff94e2e",
   "metadata": {},
   "outputs": [
    {
     "name": "stdout",
     "output_type": "stream",
     "text": [
      "0     [08, ornare, pekdal, pellentesque, pendrerit, ...\n",
      "1     [lucifer, med, mika, mollis, nisl, nullam, nun...\n",
      "2     [08, pekdal, pellentesque, pendrerit, pharetra...\n",
      "3     [lucifer, on, oijrg, mollis, moles, mika, med,...\n",
      "4     [08, pekdal, pendrerit, pharetra, phasellus, p...\n",
      "5     [08, orci, ornare, pekdal, pellentesque, pendr...\n",
      "6     [08, pekdal, pellentesque, pendrerit, pharetra...\n",
      "7     [08, maximus, med, mika, moles, nisl, nullam, ...\n",
      "8     [08, pekdal, pellentesque, pendrerit, pharetra...\n",
      "9     [08, pekdal, on, och, mollis, moles, mika, med...\n",
      "10    [överfallet, hiklas, effi, där, småstadskomple...\n",
      "11    [08, pellentesque, pendrerit, pharetra, phasel...\n",
      "12    [08, phasellus, pendrerit, ornare, on, oijrg, ...\n",
      "13    [08, orci, ornare, pellentesque, pendrerit, ph...\n",
      "14    [08, ornare, pekdal, pellentesque, pendrerit, ...\n",
      "15    [lucifer, med, mika, mollis, nisl, nullam, nun...\n",
      "16    [08, pekdal, pellentesque, pendrerit, pharetra...\n",
      "17    [lucifer, on, oijrg, mollis, moles, mika, med,...\n",
      "18    [08, pekdal, pendrerit, pharetra, phasellus, p...\n",
      "19    [08, orci, ornare, pekdal, pellentesque, pendr...\n",
      "20    [08, pekdal, pellentesque, pendrerit, pharetra...\n",
      "21    [08, maximus, med, mika, moles, nisl, nullam, ...\n",
      "22    [08, pekdal, pellentesque, pendrerit, pharetra...\n",
      "23    [08, pekdal, on, och, mollis, moles, mika, med...\n",
      "24    [överfallet, hiklas, effi, där, småstadskomple...\n",
      "25    [08, pellentesque, pendrerit, pharetra, phasel...\n",
      "26    [08, phasellus, pendrerit, ornare, on, oijrg, ...\n",
      "27    [08, orci, ornare, pellentesque, pendrerit, ph...\n",
      "dtype: object\n"
     ]
    }
   ],
   "source": [
    "import pandas as pd \n",
    "from miniArkivet import miniArkivet\n",
    "df = miniArkivet(\"tests\")\n",
    "\n",
    "from sklearn.feature_extraction.text import TfidfVectorizer\n",
    "vectorizer = TfidfVectorizer()\n",
    "tfidf_matrix = vectorizer.fit_transform(df['text'])\n",
    "tfidf_df = pd.DataFrame(\n",
    "    tfidf_matrix.toarray(),\n",
    "    columns=vectorizer.get_feature_names_out()\n",
    ")\n",
    "sorted_tfidf_df = tfidf_df.apply(lambda x: x.sort_values(ascending=True).index.tolist(), axis=1)\n",
    "print(sorted_tfidf_df)"
   ]
  }
 ],
 "metadata": {
  "kernelspec": {
   "display_name": "Python 3 (ipykernel)",
   "language": "python",
   "name": "python3"
  },
  "language_info": {
   "codemirror_mode": {
    "name": "ipython",
    "version": 3
   },
   "file_extension": ".py",
   "mimetype": "text/x-python",
   "name": "python",
   "nbconvert_exporter": "python",
   "pygments_lexer": "ipython3",
   "version": "3.10.12"
  },
  "vscode": {
   "interpreter": {
    "hash": "916dbcbb3f70747c44a77c7bcd40155683ae19c65e1c03b4aa3499c5328201f1"
   }
  }
 },
 "nbformat": 4,
 "nbformat_minor": 5
}
