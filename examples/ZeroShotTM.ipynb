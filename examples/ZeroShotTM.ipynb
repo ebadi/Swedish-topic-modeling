{
 "cells": [
  {
   "cell_type": "code",
   "execution_count": 3,
   "id": "8ab9c9ab",
   "metadata": {},
   "outputs": [
    {
     "name": "stdout",
     "output_type": "stream",
     "text": [
      "(15000, 9)\n"
     ]
    }
   ],
   "source": [
    "import pandas as pd\n",
    "from miniArkivet import miniArkivet\n",
    "df = miniArkivet(\"dummy\")\n",
    "print(df.shape)"
   ]
  },
  {
   "cell_type": "code",
   "execution_count": 4,
   "id": "44674307",
   "metadata": {},
   "outputs": [],
   "source": [
    "from datasets import load_dataset\n",
    "\n",
    "from bertopic import BERTopic\n",
    "from bertopic.representation import KeyBERTInspired"
   ]
  },
  {
   "cell_type": "code",
   "execution_count": 5,
   "id": "70f92d20",
   "metadata": {},
   "outputs": [
    {
     "name": "stderr",
     "output_type": "stream",
     "text": [
      "/home/research/.local/lib/python3.10/site-packages/numba/np/ufunc/parallel.py:371: NumbaWarning: \u001b[1mThe TBB threading layer requires TBB version 2021 update 6 or later i.e., TBB_INTERFACE_VERSION >= 12060. Found TBB_INTERFACE_VERSION = 12050. The TBB threading layer is disabled.\u001b[0m\n",
      "  warnings.warn(problem)\n"
     ]
    }
   ],
   "source": [
    "zeroshot_topic_list = [\"Programming\", \"Database\", \"languages\", \"Android\", \"pointer\", \"time\"]\n",
    "topic_model = BERTopic(\n",
    "    embedding_model=\"thenlper/gte-small\", \n",
    "    min_topic_size=15,\n",
    "    zeroshot_topic_list=zeroshot_topic_list,\n",
    "    zeroshot_min_similarity=.85,\n",
    "    representation_model=KeyBERTInspired()\n",
    ")\n",
    "topics, _ = topic_model.fit_transform(df.text)"
   ]
  },
  {
   "cell_type": "code",
   "execution_count": 6,
   "id": "54ae0bd1",
   "metadata": {},
   "outputs": [
    {
     "data": {
      "text/html": [
       "<div>\n",
       "<style scoped>\n",
       "    .dataframe tbody tr th:only-of-type {\n",
       "        vertical-align: middle;\n",
       "    }\n",
       "\n",
       "    .dataframe tbody tr th {\n",
       "        vertical-align: top;\n",
       "    }\n",
       "\n",
       "    .dataframe thead th {\n",
       "        text-align: right;\n",
       "    }\n",
       "</style>\n",
       "<table border=\"1\" class=\"dataframe\">\n",
       "  <thead>\n",
       "    <tr style=\"text-align: right;\">\n",
       "      <th></th>\n",
       "      <th>Topic</th>\n",
       "      <th>Count</th>\n",
       "      <th>Name</th>\n",
       "      <th>Representation</th>\n",
       "      <th>Representative_Docs</th>\n",
       "    </tr>\n",
       "  </thead>\n",
       "  <tbody>\n",
       "    <tr>\n",
       "      <th>0</th>\n",
       "      <td>-1</td>\n",
       "      <td>6794</td>\n",
       "      <td>0_pointer_code_namespace_output</td>\n",
       "      <td>[pointer, code, namespace, output, cout, opera...</td>\n",
       "      <td>NaN</td>\n",
       "    </tr>\n",
       "    <tr>\n",
       "      <th>1</th>\n",
       "      <td>0</td>\n",
       "      <td>63</td>\n",
       "      <td>Android</td>\n",
       "      <td>[android, java, activitythread, error, null, t...</td>\n",
       "      <td>[I am new in Android development, I am trying ...</td>\n",
       "    </tr>\n",
       "    <tr>\n",
       "      <th>2</th>\n",
       "      <td>1</td>\n",
       "      <td>34</td>\n",
       "      <td>pointer</td>\n",
       "      <td>[pointer, pointers, null, head_ptr, code, func...</td>\n",
       "      <td>[&lt;p&gt;In C++ is there any difference between the...</td>\n",
       "    </tr>\n",
       "    <tr>\n",
       "      <th>3</th>\n",
       "      <td>2</td>\n",
       "      <td>20</td>\n",
       "      <td>Database</td>\n",
       "      <td>[sqlitedatabase, database, sqlite, sql, mysql,...</td>\n",
       "      <td>[&lt;p&gt;I am doing a research on how databases wor...</td>\n",
       "    </tr>\n",
       "    <tr>\n",
       "      <th>4</th>\n",
       "      <td>3</td>\n",
       "      <td>17</td>\n",
       "      <td>Programming</td>\n",
       "      <td>[programming, python, coding, software, code, ...</td>\n",
       "      <td>[&lt;p&gt;I have a background in structural programm...</td>\n",
       "    </tr>\n",
       "    <tr>\n",
       "      <th>5</th>\n",
       "      <td>4</td>\n",
       "      <td>5</td>\n",
       "      <td>time</td>\n",
       "      <td>[time, datetime, timestamp, seconds, timef, st...</td>\n",
       "      <td>[&lt;p&gt;Which one is best to use, DateTime or INT ...</td>\n",
       "    </tr>\n",
       "    <tr>\n",
       "      <th>6</th>\n",
       "      <td>5</td>\n",
       "      <td>658</td>\n",
       "      <td>1_sql_sqlite_sqlitedatabase_mysql</td>\n",
       "      <td>[sql, sqlite, sqlitedatabase, mysql, database,...</td>\n",
       "      <td>[&lt;p&gt;Ok so my problem is that I wanted to make ...</td>\n",
       "    </tr>\n",
       "    <tr>\n",
       "      <th>7</th>\n",
       "      <td>6</td>\n",
       "      <td>396</td>\n",
       "      <td>2_regex_regexp_string_match</td>\n",
       "      <td>[regex, regexp, string, match, strings, expres...</td>\n",
       "      <td>[&lt;p&gt;I was trying some code. Mistakenly wrote b...</td>\n",
       "    </tr>\n",
       "    <tr>\n",
       "      <th>8</th>\n",
       "      <td>7</td>\n",
       "      <td>361</td>\n",
       "      <td>3_uitableview_ios_xcode_tableview</td>\n",
       "      <td>[uitableview, ios, xcode, tableview, uiviewcon...</td>\n",
       "      <td>[I have the following problem and I have not f...</td>\n",
       "    </tr>\n",
       "    <tr>\n",
       "      <th>9</th>\n",
       "      <td>8</td>\n",
       "      <td>296</td>\n",
       "      <td>4_dateformat_dateformatter_simpledateformat_da...</td>\n",
       "      <td>[dateformat, dateformatter, simpledateformat, ...</td>\n",
       "      <td>[I am using regex in c#.I want to get only nex...</td>\n",
       "    </tr>\n",
       "  </tbody>\n",
       "</table>\n",
       "</div>"
      ],
      "text/plain": [
       "   Topic  Count                                               Name  \\\n",
       "0     -1   6794                    0_pointer_code_namespace_output   \n",
       "1      0     63                                            Android   \n",
       "2      1     34                                            pointer   \n",
       "3      2     20                                           Database   \n",
       "4      3     17                                        Programming   \n",
       "5      4      5                                               time   \n",
       "6      5    658                  1_sql_sqlite_sqlitedatabase_mysql   \n",
       "7      6    396                        2_regex_regexp_string_match   \n",
       "8      7    361                  3_uitableview_ios_xcode_tableview   \n",
       "9      8    296  4_dateformat_dateformatter_simpledateformat_da...   \n",
       "\n",
       "                                      Representation  \\\n",
       "0  [pointer, code, namespace, output, cout, opera...   \n",
       "1  [android, java, activitythread, error, null, t...   \n",
       "2  [pointer, pointers, null, head_ptr, code, func...   \n",
       "3  [sqlitedatabase, database, sqlite, sql, mysql,...   \n",
       "4  [programming, python, coding, software, code, ...   \n",
       "5  [time, datetime, timestamp, seconds, timef, st...   \n",
       "6  [sql, sqlite, sqlitedatabase, mysql, database,...   \n",
       "7  [regex, regexp, string, match, strings, expres...   \n",
       "8  [uitableview, ios, xcode, tableview, uiviewcon...   \n",
       "9  [dateformat, dateformatter, simpledateformat, ...   \n",
       "\n",
       "                                 Representative_Docs  \n",
       "0                                                NaN  \n",
       "1  [I am new in Android development, I am trying ...  \n",
       "2  [<p>In C++ is there any difference between the...  \n",
       "3  [<p>I am doing a research on how databases wor...  \n",
       "4  [<p>I have a background in structural programm...  \n",
       "5  [<p>Which one is best to use, DateTime or INT ...  \n",
       "6  [<p>Ok so my problem is that I wanted to make ...  \n",
       "7  [<p>I was trying some code. Mistakenly wrote b...  \n",
       "8  [I have the following problem and I have not f...  \n",
       "9  [I am using regex in c#.I want to get only nex...  "
      ]
     },
     "execution_count": 6,
     "metadata": {},
     "output_type": "execute_result"
    }
   ],
   "source": [
    "freq = topic_model.get_topic_info(); freq.head(10)"
   ]
  },
  {
   "cell_type": "code",
   "execution_count": 7,
   "id": "a6f94a70",
   "metadata": {},
   "outputs": [
    {
     "data": {
      "text/plain": [
       "[['time', 0.914358377456665],\n",
       " ['datetime', 0.9104745388031006],\n",
       " ['timestamp', 0.9007886648178101],\n",
       " ['seconds', 0.8972191214561462],\n",
       " ['timef', 0.8883483409881592],\n",
       " ['starttime', 0.8844507932662964],\n",
       " ['minutes', 0.8835882544517517],\n",
       " ['30minutes', 0.8832049369812012],\n",
       " ['timezones', 0.8785713315010071],\n",
       " ['endtime', 0.8770560026168823]]"
      ]
     },
     "execution_count": 7,
     "metadata": {},
     "output_type": "execute_result"
    }
   ],
   "source": [
    "topic_model.get_topic(4)"
   ]
  },
  {
   "cell_type": "code",
   "execution_count": null,
   "id": "59fb2eae",
   "metadata": {},
   "outputs": [],
   "source": []
  }
 ],
 "metadata": {
  "kernelspec": {
   "display_name": "Python 3 (ipykernel)",
   "language": "python",
   "name": "python3"
  },
  "language_info": {
   "codemirror_mode": {
    "name": "ipython",
    "version": 3
   },
   "file_extension": ".py",
   "mimetype": "text/x-python",
   "name": "python",
   "nbconvert_exporter": "python",
   "pygments_lexer": "ipython3",
   "version": "3.10.12"
  }
 },
 "nbformat": 4,
 "nbformat_minor": 5
}
